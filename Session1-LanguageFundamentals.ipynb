{
 "cells": [
  {
   "cell_type": "markdown",
   "metadata": {},
   "source": [
    "Zen of Python https://www.python.org/dev/peps/pep-0020/ Data Types https://docs.python.org/3/library/stdtypes.html"
   ]
  },
  {
   "cell_type": "markdown",
   "metadata": {},
   "source": [
    "Anaconda installation https://www.anaconda.com/products/individual\n"
   ]
  },
  {
   "cell_type": "code",
   "execution_count": null,
   "metadata": {},
   "outputs": [],
   "source": []
  },
  {
   "cell_type": "markdown",
   "metadata": {},
   "source": [
    "# Numbers"
   ]
  },
  {
   "cell_type": "code",
   "execution_count": 7,
   "metadata": {},
   "outputs": [
    {
     "name": "stdout",
     "output_type": "stream",
     "text": [
      "10\n",
      "20\n",
      "(20+2j)\n"
     ]
    }
   ],
   "source": [
    "a = 10\n",
    "print(a)\n",
    "b = a + 10\n",
    "print(b)\n",
    "\n",
    "c  = 10 + 2j\n",
    "print(c + 10)"
   ]
  },
  {
   "cell_type": "markdown",
   "metadata": {},
   "source": [
    "# String\n"
   ]
  },
  {
   "cell_type": "markdown",
   "metadata": {},
   "source": [
    "# This section is regarding String\n",
    "## section 2"
   ]
  },
  {
   "cell_type": "code",
   "execution_count": 1,
   "metadata": {},
   "outputs": [
    {
     "name": "stdout",
     "output_type": "stream",
     "text": [
      "Hello World!\n"
     ]
    }
   ],
   "source": [
    "s = \"Hello World!\"\n",
    "print(s)\n",
    "\n"
   ]
  },
  {
   "cell_type": "markdown",
   "metadata": {},
   "source": [
    "Slicing "
   ]
  },
  {
   "cell_type": "code",
   "execution_count": 10,
   "metadata": {},
   "outputs": [
    {
     "name": "stdout",
     "output_type": "stream",
     "text": [
      "Hel\n"
     ]
    }
   ],
   "source": [
    "t = s[:3]\n",
    "print(t)"
   ]
  },
  {
   "cell_type": "code",
   "execution_count": 11,
   "metadata": {},
   "outputs": [
    {
     "name": "stdout",
     "output_type": "stream",
     "text": [
      "llo\n"
     ]
    }
   ],
   "source": [
    "t2 = s[2:5]\n",
    "print(t2)"
   ]
  },
  {
   "cell_type": "code",
   "execution_count": 13,
   "metadata": {},
   "outputs": [
    {
     "name": "stdout",
     "output_type": "stream",
     "text": [
      "HloWrd\n"
     ]
    }
   ],
   "source": [
    "t3 = s[::2]\n",
    "print(t3)"
   ]
  },
  {
   "cell_type": "code",
   "execution_count": 2,
   "metadata": {},
   "outputs": [
    {
     "name": "stdout",
     "output_type": "stream",
     "text": [
      "!dlroW olleH\n"
     ]
    }
   ],
   "source": [
    "t4 = s[::-1]\n",
    "print(t4)"
   ]
  },
  {
   "cell_type": "code",
   "execution_count": 7,
   "metadata": {},
   "outputs": [
    {
     "name": "stdout",
     "output_type": "stream",
     "text": [
      "\n"
     ]
    }
   ],
   "source": [
    "t4 = s[5:5:-1]\n",
    "print(t4)"
   ]
  },
  {
   "cell_type": "markdown",
   "metadata": {},
   "source": [
    "# while, for  and else"
   ]
  },
  {
   "cell_type": "code",
   "execution_count": 16,
   "metadata": {},
   "outputs": [
    {
     "ename": "SyntaxError",
     "evalue": "invalid syntax (<ipython-input-16-8389e59eeca9>, line 7)",
     "output_type": "error",
     "traceback": [
      "\u001b[1;36m  File \u001b[1;32m\"<ipython-input-16-8389e59eeca9>\"\u001b[1;36m, line \u001b[1;32m7\u001b[0m\n\u001b[1;33m    int i=1\u001b[0m\n\u001b[1;37m        ^\u001b[0m\n\u001b[1;31mSyntaxError\u001b[0m\u001b[1;31m:\u001b[0m invalid syntax\n"
     ]
    }
   ],
   "source": [
    "i = 1\n",
    "while i <10:\n",
    "    print(i)\n",
    "    i = i + 1\n",
    "\n",
    "    \n",
    "#int i=1\n",
    "#while(i<10)\n",
    "#{\n",
    "#    System.out.println(i);\n",
    "#    i++;\n",
    "#}\n",
    "#print('After the loop',i)"
   ]
  },
  {
   "cell_type": "code",
   "execution_count": 18,
   "metadata": {},
   "outputs": [
    {
     "name": "stdout",
     "output_type": "stream",
     "text": [
      "1\n",
      "2\n",
      "3\n",
      "4\n",
      "5\n",
      "6\n",
      "7\n",
      "8\n",
      "9\n",
      "After  10\n"
     ]
    }
   ],
   "source": [
    "i = 1\n",
    "while i<10:\n",
    "    print(i)\n",
    "    i = i + 1\n",
    "else:\n",
    "    print('After ',i)"
   ]
  },
  {
   "cell_type": "code",
   "execution_count": 19,
   "metadata": {},
   "outputs": [
    {
     "name": "stdout",
     "output_type": "stream",
     "text": [
      "1\n",
      "2\n",
      "3\n"
     ]
    }
   ],
   "source": [
    "i = 1\n",
    "while i<10:\n",
    "    print(i)\n",
    "    i+=1\n",
    "    \n",
    "    if i==4:\n",
    "        break\n",
    "    \n",
    "else:\n",
    "    print('After ',i)"
   ]
  },
  {
   "cell_type": "code",
   "execution_count": 21,
   "metadata": {},
   "outputs": [
    {
     "name": "stdout",
     "output_type": "stream",
     "text": [
      "1\n",
      "2\n",
      "3\n",
      "4\n",
      "5\n",
      "After loop 5\n"
     ]
    }
   ],
   "source": [
    "for i in range(1,6):\n",
    "    print(i)\n",
    "else:\n",
    "    print('After loop',i)"
   ]
  },
  {
   "cell_type": "code",
   "execution_count": 23,
   "metadata": {},
   "outputs": [
    {
     "name": "stdout",
     "output_type": "stream",
     "text": [
      "0 1 2 3 4 5 6 7 8 9 "
     ]
    }
   ],
   "source": [
    "for i in range(10):\n",
    "    print(i,end=' ')\n",
    "    "
   ]
  },
  {
   "cell_type": "code",
   "execution_count": 24,
   "metadata": {},
   "outputs": [
    {
     "name": "stdout",
     "output_type": "stream",
     "text": [
      "1 3 5 7 9 "
     ]
    }
   ],
   "source": [
    "for i in range(1,10,2):\n",
    "    print(i,end=' ')"
   ]
  },
  {
   "cell_type": "code",
   "execution_count": 25,
   "metadata": {},
   "outputs": [
    {
     "name": "stdout",
     "output_type": "stream",
     "text": [
      "[1, 2, 3, 4, 66, 11, 22, 'Hello world', 'Bangalore']\n"
     ]
    }
   ],
   "source": [
    "lst = [1,2,3,4,66,11,22,\"Hello world\",\"Bangalore\"]\n",
    "print(lst)"
   ]
  },
  {
   "cell_type": "code",
   "execution_count": 26,
   "metadata": {},
   "outputs": [
    {
     "name": "stdout",
     "output_type": "stream",
     "text": [
      "1\n",
      "2\n",
      "3\n",
      "4\n",
      "66\n",
      "11\n",
      "22\n",
      "Hello world\n",
      "Bangalore\n"
     ]
    }
   ],
   "source": [
    "for value in lst:\n",
    "    print(value)"
   ]
  },
  {
   "cell_type": "code",
   "execution_count": 27,
   "metadata": {},
   "outputs": [
    {
     "name": "stdout",
     "output_type": "stream",
     "text": [
      "0 1\n",
      "1 2\n",
      "2 3\n",
      "3 4\n",
      "4 66\n",
      "5 11\n",
      "6 22\n",
      "7 Hello world\n",
      "8 Bangalore\n"
     ]
    }
   ],
   "source": [
    "for i,value in enumerate(lst):\n",
    "    print(i, value)"
   ]
  },
  {
   "cell_type": "code",
   "execution_count": 34,
   "metadata": {},
   "outputs": [
    {
     "name": "stdout",
     "output_type": "stream",
     "text": [
      "0 1\n",
      "1 2\n",
      "2 3\n",
      "3 4\n",
      "4 66\n",
      "5 11\n",
      "6 22\n",
      "7 Hello world\n",
      "8 Bangalore\n"
     ]
    }
   ],
   "source": [
    "index = 0\n",
    "while index<len(lst):\n",
    "    print(index, lst[index])\n",
    "    index += 1\n"
   ]
  },
  {
   "cell_type": "code",
   "execution_count": 35,
   "metadata": {},
   "outputs": [
    {
     "name": "stdout",
     "output_type": "stream",
     "text": [
      "('Bangalore', 560001)\n",
      "('Delhi', 11001)\n",
      "('chennai', 20002)\n",
      "('Pune', 30000)\n",
      "('mumbai', 100)\n",
      "('Jaipur', '222')\n"
     ]
    }
   ],
   "source": [
    "cities = ['Bangalore','Delhi','chennai','Pune','mumbai','Jaipur']\n",
    "pincodes = [560001,11001,20002,30000,100,\"222\"]\n",
    "\n",
    "for values in zip(cities,pincodes):\n",
    "    print(values)"
   ]
  },
  {
   "cell_type": "code",
   "execution_count": 37,
   "metadata": {},
   "outputs": [
    {
     "name": "stdout",
     "output_type": "stream",
     "text": [
      "Reverse of cities ['Jaipur', 'mumbai', 'Pune', 'chennai', 'Delhi', 'Bangalore']\n",
      "skip city ['Bangalore', 'chennai', 'mumbai']\n"
     ]
    }
   ],
   "source": [
    "cities = ['Bangalore','Delhi','chennai','Pune','mumbai','Jaipur']\n",
    "pincodes = [560001,11001,20002,30000,100,\"222\"]\n",
    "\n",
    "print('Reverse of cities', cities[::-1])\n",
    "print('skip city', cities[::2])"
   ]
  },
  {
   "cell_type": "code",
   "execution_count": 38,
   "metadata": {},
   "outputs": [],
   "source": [
    "## shallow copy and deep copy"
   ]
  },
  {
   "cell_type": "code",
   "execution_count": 39,
   "metadata": {},
   "outputs": [
    {
     "name": "stdout",
     "output_type": "stream",
     "text": [
      "cities ['Bangalore', 'Delhi', 'chennai', 'Pune', 'mumbai', 'Jaipur', 'New york', 'Culcutta']\n",
      "newcities ['Bangalore', 'Delhi', 'chennai', 'Pune', 'mumbai', 'Jaipur', 'New york', 'Culcutta']\n"
     ]
    }
   ],
   "source": [
    "cities = ['Bangalore','Delhi','chennai','Pune','mumbai','Jaipur']\n",
    "newcities = cities\n",
    "\n",
    "newcities.append('New york')\n",
    "cities.append('Culcutta')\n",
    "print('cities',cities)\n",
    "print('newcities',newcities)"
   ]
  },
  {
   "cell_type": "code",
   "execution_count": 40,
   "metadata": {},
   "outputs": [
    {
     "name": "stdout",
     "output_type": "stream",
     "text": [
      "cities ['Bangalore', 'Delhi', 'chennai', 'Pune', 'mumbai', 'Jaipur', 'Culcutta']\n",
      "newcities ['Bangalore', 'Delhi', 'chennai', 'Pune', 'mumbai', 'Jaipur', 'New york']\n"
     ]
    }
   ],
   "source": [
    "cities = ['Bangalore','Delhi','chennai','Pune','mumbai','Jaipur']\n",
    "newcities = cities[:]\n",
    "\n",
    "newcities.append('New york')\n",
    "cities.append('Culcutta')\n",
    "print('cities',cities)\n",
    "print('newcities',newcities)"
   ]
  },
  {
   "cell_type": "code",
   "execution_count": 41,
   "metadata": {},
   "outputs": [
    {
     "name": "stdout",
     "output_type": "stream",
     "text": [
      "cities ['Bangalore', 'Delhi', 'chennai', 'Pune', 'mumbai', 'Jaipur', 'Culcutta']\n",
      "newcities ['Bangalore', 'Delhi', 'chennai', 'Pune', 'mumbai', 'Jaipur', 'New york']\n"
     ]
    }
   ],
   "source": [
    "import copy\n",
    "cities = ['Bangalore','Delhi','chennai','Pune','mumbai','Jaipur']\n",
    "newcities = copy.deepcopy(cities)\n",
    "\n",
    "\n",
    "newcities.append('New york')\n",
    "cities.append('Culcutta')\n",
    "print('cities',cities)\n",
    "print('newcities',newcities)"
   ]
  },
  {
   "cell_type": "code",
   "execution_count": 42,
   "metadata": {},
   "outputs": [
    {
     "name": "stdout",
     "output_type": "stream",
     "text": [
      "3\n",
      "3.3333333333333335\n"
     ]
    }
   ],
   "source": [
    "# // **\n",
    "\n",
    "a = 10 // 3\n",
    "b = 10 / 3\n",
    "\n",
    "print(a)\n",
    "print(b)"
   ]
  },
  {
   "cell_type": "code",
   "execution_count": 43,
   "metadata": {},
   "outputs": [
    {
     "name": "stdout",
     "output_type": "stream",
     "text": [
      "32\n"
     ]
    }
   ],
   "source": [
    "a = 2 ** 5\n",
    "print(a)"
   ]
  },
  {
   "cell_type": "code",
   "execution_count": 45,
   "metadata": {},
   "outputs": [
    {
     "name": "stdout",
     "output_type": "stream",
     "text": [
      "7687687676097874832542532524452654654765765797432198471382472183975\n"
     ]
    }
   ],
   "source": [
    "largeVar = 7687687676097874832542532524452654654765765797432198471382472183974\n",
    "print(largeVar + 1)"
   ]
  },
  {
   "cell_type": "code",
   "execution_count": 46,
   "metadata": {},
   "outputs": [
    {
     "name": "stdout",
     "output_type": "stream",
     "text": [
      "1000000\n"
     ]
    }
   ],
   "source": [
    "num = 1000000\n",
    "print(num)"
   ]
  },
  {
   "cell_type": "code",
   "execution_count": 48,
   "metadata": {},
   "outputs": [
    {
     "name": "stdout",
     "output_type": "stream",
     "text": [
      "1000001\n"
     ]
    }
   ],
   "source": [
    "anothernum = 1_000_000\n",
    "print(anothernum + 1)"
   ]
  },
  {
   "cell_type": "code",
   "execution_count": 49,
   "metadata": {},
   "outputs": [
    {
     "data": {
      "text/plain": [
       "int"
      ]
     },
     "execution_count": 49,
     "metadata": {},
     "output_type": "execute_result"
    }
   ],
   "source": [
    "type(largeVar)"
   ]
  },
  {
   "cell_type": "code",
   "execution_count": null,
   "metadata": {},
   "outputs": [],
   "source": []
  }
 ],
 "metadata": {
  "kernelspec": {
   "display_name": "Python 3",
   "language": "python",
   "name": "python3"
  },
  "language_info": {
   "codemirror_mode": {
    "name": "ipython",
    "version": 3
   },
   "file_extension": ".py",
   "mimetype": "text/x-python",
   "name": "python",
   "nbconvert_exporter": "python",
   "pygments_lexer": "ipython3",
   "version": "3.7.1"
  }
 },
 "nbformat": 4,
 "nbformat_minor": 4
}
